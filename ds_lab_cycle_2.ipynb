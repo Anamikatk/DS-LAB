{
 "cells": [
  {
   "cell_type": "markdown",
   "id": "7c1b5fa6-e656-4ebb-8b80-3da207d09144",
   "metadata": {},
   "source": [
    "## "
   ]
  },
  {
   "cell_type": "markdown",
   "id": "9d137553-8df0-4422-a087-49f66903b2ea",
   "metadata": {},
   "source": [
    "## "
   ]
  },
  {
   "cell_type": "code",
   "execution_count": 28,
   "id": "85bb2df5-2536-4cc1-bcce-0215a2002b71",
   "metadata": {},
   "outputs": [
    {
     "name": "stdout",
     "output_type": "stream",
     "text": [
      "MATRIX 1\n",
      "\n"
     ]
    },
    {
     "name": "stdin",
     "output_type": "stream",
     "text": [
      "Enter the number of rows: 2\n",
      "Enter the number of columns: 2\n"
     ]
    },
    {
     "name": "stdout",
     "output_type": "stream",
     "text": [
      "Enter the elements in a single line (space separated): \n"
     ]
    },
    {
     "name": "stdin",
     "output_type": "stream",
     "text": [
      " 1 2 3 4\n"
     ]
    },
    {
     "name": "stdout",
     "output_type": "stream",
     "text": [
      "\n",
      " Matrix 1 : \n",
      " [[1 2]\n",
      " [3 4]]\n",
      "\n",
      "MARTIX 2 \n",
      "\n"
     ]
    },
    {
     "name": "stdin",
     "output_type": "stream",
     "text": [
      "Enter the number of rows: 2\n",
      "Enter the number of columns: 2\n"
     ]
    },
    {
     "name": "stdout",
     "output_type": "stream",
     "text": [
      "Enter the elements in a single line (space separated): \n"
     ]
    },
    {
     "name": "stdin",
     "output_type": "stream",
     "text": [
      " 4 3 2 1\n"
     ]
    },
    {
     "name": "stdout",
     "output_type": "stream",
     "text": [
      "\n",
      " Matrix 2 : \n",
      " [[4 3]\n",
      " [2 1]]\n",
      "\n",
      " Dot product : \n",
      " [[ 8  5]\n",
      " [20 13]]\n",
      "\n",
      " Transpose of Matrix : \n",
      " [[1 3]\n",
      " [2 4]]\n",
      "\n",
      " Trace of Matrix : \n",
      " 5\n",
      "\n",
      " Rank of Matrix : \n",
      " 2\n",
      "\n",
      " Determinant of Matrix : \n",
      " -2.0000000000000004\n",
      "\n",
      " Inverse of Matrix : \n",
      " [[-2.   1. ]\n",
      " [ 1.5 -0.5]]\n",
      "\n",
      " Eigen values and Eigen vectors : \n",
      " EigResult(eigenvalues=array([-0.37228132,  5.37228132]), eigenvectors=array([[-0.82456484, -0.41597356],\n",
      "       [ 0.56576746, -0.90937671]]))\n"
     ]
    }
   ],
   "source": [
    "import numpy as np\n",
    "\n",
    "print(\"MATRIX 1\\n\") \n",
    "r1= int(input(\"Enter the number of rows:\")) \n",
    "c1= int(input(\"Enter the number of columns:\"))\n",
    "\n",
    "print(\"Enter the elements in a single line (space separated): \")\n",
    "\n",
    "ent1=list(map(int, input().split()))\n",
    "\n",
    "mat1=np.array(ent1).reshape(r1, c1) \n",
    "print(\"\\n Matrix 1 : \\n\", mat1)\n",
    "\n",
    "print(\"\\nMARTIX 2 \\n\") \n",
    "r2= int(input(\"Enter the number of rows:\")) \n",
    "c2= int(input(\"Enter the number of columns:\"))\n",
    "\n",
    "print(\"Enter the elements in a single line (space separated): \")\n",
    "\n",
    "ent2=list(map(int, input().split()))\n",
    "\n",
    "mat2=np.array(ent2).reshape(r2, c2) \n",
    "print(\"\\n Matrix 2 : \\n\", mat2)\n",
    "\n",
    "#1 : DOT PRODUCT \n",
    "b=np.dot(mat1,mat2) \n",
    "print(\"\\n Dot product : \\n\",b)\n",
    "\n",
    "#2 : TRANSPOSE \n",
    "trans=np.transpose(mat1) \n",
    "print(\"\\n Transpose of Matrix : \\n\",trans)\n",
    "\n",
    "#3 : TRACE \n",
    "trace=np.trace(mat1) \n",
    "print(\"\\n Trace of Matrix : \\n\",trace)\n",
    "\n",
    "#4 : RANK \n",
    "rank=np.linalg.matrix_rank(mat1) \n",
    "print(\"\\n Rank of Matrix : \\n\",rank)\n",
    "\n",
    "#5 : DETERMINANT \n",
    "det=np.linalg.det(mat1) \n",
    "print(\"\\n Determinant of Matrix : \\n\",det)\n",
    "\n",
    "#6 : INVERSE \n",
    "inv=np.linalg.inv(mat1) \n",
    "print(\"\\n Inverse of Matrix : \\n\",inv)\n",
    "\n",
    "#7 : EIGEN VALUES & EIGEN VECTORS \n",
    "eig=np.linalg.eig(mat1) \n",
    "print(\"\\n Eigen values and Eigen vectors : \\n\",eig)\n"
   ]
  },
  {
   "cell_type": "code",
   "execution_count": null,
   "id": "097bf2ad-3012-4930-8466-2bb5bbbbb279",
   "metadata": {},
   "outputs": [],
   "source": []
  },
  {
   "cell_type": "code",
   "execution_count": null,
   "id": "d5706663-b956-4385-a2b4-b5d912a2a016",
   "metadata": {},
   "outputs": [],
   "source": []
  },
  {
   "cell_type": "code",
   "execution_count": null,
   "id": "eb64ed83-96d2-41a7-8fba-6e7688808c3e",
   "metadata": {},
   "outputs": [],
   "source": []
  },
  {
   "cell_type": "code",
   "execution_count": null,
   "id": "ec2f315f-8797-4d9c-a64b-cbd617b32985",
   "metadata": {},
   "outputs": [],
   "source": []
  },
  {
   "cell_type": "code",
   "execution_count": null,
   "id": "242f1bf4-8a33-4fe3-a36c-6336eb2d8aa1",
   "metadata": {},
   "outputs": [],
   "source": []
  },
  {
   "cell_type": "code",
   "execution_count": null,
   "id": "f71afaf3-51f9-4680-a496-0eabc8e65ad3",
   "metadata": {},
   "outputs": [],
   "source": []
  },
  {
   "cell_type": "code",
   "execution_count": null,
   "id": "4e29460d-b2d8-48ec-9fde-6d2662400505",
   "metadata": {},
   "outputs": [],
   "source": []
  },
  {
   "cell_type": "code",
   "execution_count": null,
   "id": "e90b8651-4e77-4b7e-8199-a17e92e90be7",
   "metadata": {},
   "outputs": [],
   "source": []
  },
  {
   "cell_type": "code",
   "execution_count": null,
   "id": "94951704-cc41-4dec-8b24-4a1e1103aca6",
   "metadata": {},
   "outputs": [],
   "source": []
  },
  {
   "cell_type": "code",
   "execution_count": null,
   "id": "3b3b350a-5ffb-4b39-bebf-3e2c1b96dc2e",
   "metadata": {},
   "outputs": [],
   "source": []
  }
 ],
 "metadata": {
  "kernelspec": {
   "display_name": "Python 3 (ipykernel)",
   "language": "python",
   "name": "python3"
  },
  "language_info": {
   "codemirror_mode": {
    "name": "ipython",
    "version": 3
   },
   "file_extension": ".py",
   "mimetype": "text/x-python",
   "name": "python",
   "nbconvert_exporter": "python",
   "pygments_lexer": "ipython3",
   "version": "3.10.12"
  }
 },
 "nbformat": 4,
 "nbformat_minor": 5
}
