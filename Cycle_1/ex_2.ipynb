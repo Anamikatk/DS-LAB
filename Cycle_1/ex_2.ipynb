{
 "cells": [
  {
   "cell_type": "code",
   "execution_count": 1,
   "id": "3e361405-6bc3-40a0-8a10-8150180618d5",
   "metadata": {},
   "outputs": [
    {
     "name": "stdin",
     "output_type": "stream",
     "text": [
      "Enter no. of rows :  2\n",
      "Enter no. of columns :  2\n",
      "Enter 1,1 :  1\n",
      "Enter 1,2 :  2\n",
      "Enter 2,1 :  3\n",
      "Enter 2,2 :  4\n"
     ]
    }
   ],
   "source": [
    "import numpy as np\n",
    "r=int(input(\"Enter no. of rows : \"))\n",
    "c=int(input(\"Enter no. of columns : \"))\n",
    "m=np.zeros((r,c))\n",
    "\n",
    "for i in range(r):\n",
    "    for j in range(c):\n",
    "        m[i][j]=int(input(f'Enter {i+1},{j+1} : '))\n"
   ]
  },
  {
   "cell_type": "code",
   "execution_count": 2,
   "id": "dcb3bc2e-593b-4109-9069-414cbda33518",
   "metadata": {},
   "outputs": [
    {
     "name": "stdout",
     "output_type": "stream",
     "text": [
      "Matrix :  [[1. 2.]\n",
      " [3. 4.]]\n",
      "[[1. 2.]\n",
      " [3. 4.]]\n"
     ]
    }
   ],
   "source": [
    "print(\"Matrix : \",m)\n",
    "print(m)\n"
   ]
  },
  {
   "cell_type": "code",
   "execution_count": 6,
   "id": "4683dcd4-b726-42c7-b61b-f1004f68fbac",
   "metadata": {},
   "outputs": [
    {
     "name": "stdout",
     "output_type": "stream",
     "text": [
      "\n",
      "Transpose : \n",
      "[[1. 3.]\n",
      " [2. 4.]]\n"
     ]
    }
   ],
   "source": [
    "print('\\nTranspose : ')\n",
    "print(np.transpose(m))"
   ]
  },
  {
   "cell_type": "code",
   "execution_count": 7,
   "id": "78f7b064-a79d-46e9-be88-bc9f4f2fbeb3",
   "metadata": {},
   "outputs": [
    {
     "name": "stdout",
     "output_type": "stream",
     "text": [
      "\n",
      "Trace : \n",
      "5.0\n"
     ]
    }
   ],
   "source": [
    "print('\\nTrace : ')\n",
    "print(np.trace(m))"
   ]
  },
  {
   "cell_type": "code",
   "execution_count": 8,
   "id": "ae708ebb-472d-4494-a3cf-803f8ccfc809",
   "metadata": {},
   "outputs": [
    {
     "name": "stdout",
     "output_type": "stream",
     "text": [
      "\n",
      "Inverse : \n",
      "[[-2.   1. ]\n",
      " [ 1.5 -0.5]]\n"
     ]
    }
   ],
   "source": [
    "print('\\nInverse : ')\n",
    "print(np.linalg.inv(m))"
   ]
  },
  {
   "cell_type": "code",
   "execution_count": 9,
   "id": "c19714ff-6997-4472-b699-2fd82d60b00d",
   "metadata": {},
   "outputs": [
    {
     "name": "stdout",
     "output_type": "stream",
     "text": [
      "\n",
      "Determinant : \n",
      "-2.0000000000000004\n"
     ]
    }
   ],
   "source": [
    "print('\\nDeterminant : ')\n",
    "print(np.linalg.det(m))"
   ]
  },
  {
   "cell_type": "code",
   "execution_count": 11,
   "id": "4f66ab78-53d2-4e83-9fb7-4ddecc1708e1",
   "metadata": {},
   "outputs": [
    {
     "name": "stdout",
     "output_type": "stream",
     "text": [
      "\n",
      "Matrix Rank : \n",
      "2\n"
     ]
    }
   ],
   "source": [
    "print('\\nMatrix Rank : ')\n",
    "print(np.linalg.matrix_rank(m))"
   ]
  },
  {
   "cell_type": "code",
   "execution_count": 12,
   "id": "7dcbae66-a5e7-4a76-80c1-eb0c7129362d",
   "metadata": {},
   "outputs": [
    {
     "name": "stdout",
     "output_type": "stream",
     "text": [
      "\n",
      "Eigen Value and Eigen Vector : \n",
      "Eigen value : [-0.37228132  5.37228132]\n",
      "Eigen vector : [[-0.82456484 -0.41597356]\n",
      " [ 0.56576746 -0.90937671]]\n"
     ]
    }
   ],
   "source": [
    "print('\\nEigen Value and Eigen Vector : ')\n",
    "eig_val,eig_vect=np.linalg.eig(m)\n",
    "print(f'Eigen value : {eig_val}')\n",
    "print(f'Eigen vector : {eig_vect}')"
   ]
  },
  {
   "cell_type": "code",
   "execution_count": null,
   "id": "82842fa9-6b8c-49e4-bbc9-14a962016d92",
   "metadata": {},
   "outputs": [],
   "source": []
  }
 ],
 "metadata": {
  "kernelspec": {
   "display_name": "Python 3 (ipykernel)",
   "language": "python",
   "name": "python3"
  },
  "language_info": {
   "codemirror_mode": {
    "name": "ipython",
    "version": 3
   },
   "file_extension": ".py",
   "mimetype": "text/x-python",
   "name": "python",
   "nbconvert_exporter": "python",
   "pygments_lexer": "ipython3",
   "version": "3.8.10"
  }
 },
 "nbformat": 4,
 "nbformat_minor": 5
}
