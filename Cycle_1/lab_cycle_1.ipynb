{
 "cells": [
  {
   "cell_type": "code",
   "execution_count": 2,
   "id": "d06bef97-ab32-4cd8-beff-6e67a2d33170",
   "metadata": {},
   "outputs": [],
   "source": [
    "import numpy as np\n",
    "a=np.array([1,2,3,4])\n",
    "b=np.array([6,1,7,8])"
   ]
  },
  {
   "cell_type": "code",
   "execution_count": 3,
   "id": "69c3710c-1c8c-4efe-9292-bc8aabcab057",
   "metadata": {},
   "outputs": [
    {
     "data": {
      "text/plain": [
       "array([False,  True, False, False])"
      ]
     },
     "execution_count": 3,
     "metadata": {},
     "output_type": "execute_result"
    }
   ],
   "source": [
    "np.greater(a,b)"
   ]
  },
  {
   "cell_type": "code",
   "execution_count": 4,
   "id": "30b1c98d-4bb7-4289-ab58-5eeb20b06496",
   "metadata": {},
   "outputs": [
    {
     "data": {
      "text/plain": [
       "array([False,  True, False, False])"
      ]
     },
     "execution_count": 4,
     "metadata": {},
     "output_type": "execute_result"
    }
   ],
   "source": [
    "np.greater_equal(a,b)"
   ]
  },
  {
   "cell_type": "code",
   "execution_count": 5,
   "id": "72615402-fb8f-42c9-9c05-49aeb2a0dc76",
   "metadata": {},
   "outputs": [
    {
     "data": {
      "text/plain": [
       "array([ True, False,  True,  True])"
      ]
     },
     "execution_count": 5,
     "metadata": {},
     "output_type": "execute_result"
    }
   ],
   "source": [
    "np.less(a,b)"
   ]
  },
  {
   "cell_type": "code",
   "execution_count": 6,
   "id": "787ed82b-b2cc-4451-9a25-9ec23395358c",
   "metadata": {},
   "outputs": [
    {
     "data": {
      "text/plain": [
       "array([ True, False,  True,  True])"
      ]
     },
     "execution_count": 6,
     "metadata": {},
     "output_type": "execute_result"
    }
   ],
   "source": [
    "np.less_equal(a,b)"
   ]
  },
  {
   "cell_type": "code",
   "execution_count": 8,
   "id": "97d0323e-0f9e-4fc9-89d6-9343a47a851d",
   "metadata": {},
   "outputs": [
    {
     "name": "stdout",
     "output_type": "stream",
     "text": [
      "Array of even number elements from 30 to 70 : [30 32 34 36 38 40 42 44 46 48 50 52 54 56 58 60 62 64 66 68]\n"
     ]
    }
   ],
   "source": [
    "e=np.arange(30,70,2)\n",
    "print(f'Array of even number elements from 30 to 70 : {e}')"
   ]
  },
  {
   "cell_type": "code",
   "execution_count": 9,
   "id": "209a21ed-b70d-403a-9440-f56ac869aa89",
   "metadata": {},
   "outputs": [
    {
     "name": "stdout",
     "output_type": "stream",
     "text": [
      "[[1 0 0]\n",
      " [0 1 0]\n",
      " [0 0 1]]\n"
     ]
    }
   ],
   "source": [
    "i=np.identity(3,dtype=int)\n",
    "print(i)"
   ]
  },
  {
   "cell_type": "code",
   "execution_count": 15,
   "id": "02ac575e-96f3-49d8-a113-4a7e0ac77975",
   "metadata": {},
   "outputs": [
    {
     "name": "stdout",
     "output_type": "stream",
     "text": [
      "[  0   1   2   3   4   5   6   7   8  -9 -10 -11 -12 -13 -14 -15  16  17\n",
      "  18  19]\n"
     ]
    }
   ],
   "source": [
    "v=np.arange(0,20)\n",
    "v[(v>=9)&(v<=15)] *=-1\n",
    "print(v)"
   ]
  },
  {
   "cell_type": "code",
   "execution_count": 16,
   "id": "b947c7e5-9482-442d-92ef-ee1a822867d0",
   "metadata": {},
   "outputs": [
    {
     "name": "stdout",
     "output_type": "stream",
     "text": [
      "[[1 0 0 0 0]\n",
      " [0 2 0 0 0]\n",
      " [0 0 3 0 0]\n",
      " [0 0 0 4 0]\n",
      " [0 0 0 0 5]]\n"
     ]
    }
   ],
   "source": [
    "a=np.diag(np.arange(1,6))\n",
    "print(a)"
   ]
  },
  {
   "cell_type": "code",
   "execution_count": 18,
   "id": "fe149441-6db1-4925-b584-58b9ec0cfbb9",
   "metadata": {},
   "outputs": [
    {
     "name": "stdout",
     "output_type": "stream",
     "text": [
      "9\n"
     ]
    }
   ],
   "source": [
    "a=np.array([[1,2,3],\n",
    "          [1,1,1],\n",
    "          [0,0,0]])\n",
    "print(np.sum(a))"
   ]
  },
  {
   "cell_type": "code",
   "execution_count": 19,
   "id": "9d075e14-e3b8-40b8-97ca-accc03dadd4f",
   "metadata": {},
   "outputs": [
    {
     "name": "stdout",
     "output_type": "stream",
     "text": [
      "[2 3 4]\n"
     ]
    }
   ],
   "source": [
    "print(np.sum(a,axis=0))"
   ]
  },
  {
   "cell_type": "code",
   "execution_count": 20,
   "id": "f1a34fca-045a-44bb-9aa0-1b35559b6fab",
   "metadata": {},
   "outputs": [
    {
     "name": "stdout",
     "output_type": "stream",
     "text": [
      "[6 3 0]\n"
     ]
    }
   ],
   "source": [
    "print(np.sum(a,axis=1))"
   ]
  },
  {
   "cell_type": "code",
   "execution_count": 21,
   "id": "29144463-b243-4cc7-b244-9a4bff5a8e88",
   "metadata": {},
   "outputs": [],
   "source": [
    "np.savetxt('array.txt',a)"
   ]
  },
  {
   "cell_type": "code",
   "execution_count": 23,
   "id": "c7fbde23-b975-4cf7-9ea0-fb3eae2d8cb2",
   "metadata": {},
   "outputs": [
    {
     "name": "stdout",
     "output_type": "stream",
     "text": [
      "[[1 2 3]\n",
      " [1 1 1]\n",
      " [0 0 0]]\n"
     ]
    }
   ],
   "source": [
    "print(np.loadtxt('array.txt').astype(np.int64))"
   ]
  },
  {
   "cell_type": "code",
   "execution_count": 25,
   "id": "9e7a88f7-a637-4a54-b78f-eed9341c8e6c",
   "metadata": {},
   "outputs": [
    {
     "name": "stdout",
     "output_type": "stream",
     "text": [
      "False\n"
     ]
    }
   ],
   "source": [
    "a=np.array([[1,2,3],\n",
    "          [1,1,1],\n",
    "          [0,0,0]])\n",
    "b=np.array([[1,2,3],\n",
    "          [1,1,21],\n",
    "          [0,0,0]])\n",
    "print(np.array_equal(a,b))"
   ]
  },
  {
   "cell_type": "code",
   "execution_count": 47,
   "id": "af458bb8-7b7b-42d4-a95e-8eb76d64303a",
   "metadata": {},
   "outputs": [
    {
     "name": "stdout",
     "output_type": "stream",
     "text": [
      "Before Swap :\n",
      " [[0.  0.5 0.7 0.9]\n",
      " [0.3 0.6 0.6 0.7]\n",
      " [0.9 0.5 0.5 0.2]\n",
      " [0.1 0.6 0.7 0.9]]\n",
      "\n",
      "After Swap :\n",
      " [[0.  0.5 0.7 0.1]\n",
      " [0.3 0.6 0.6 0.7]\n",
      " [0.9 0.5 0.5 0.2]\n",
      " [0.1 0.6 0.7 0.9]]\n"
     ]
    }
   ],
   "source": [
    "r=np.random.rand(4,4)\n",
    "r=np.round(r,1)\n",
    "# r=np.random.randint(1,100,(4,4))\n",
    "# print(a)\n",
    "print(f'Before Swap :\\n {r}')\n",
    "r[0,3]=r[3,0]\n",
    "print(f'\\nAfter Swap :\\n {r}')"
   ]
  },
  {
   "cell_type": "code",
   "execution_count": 50,
   "id": "632211d4-5d54-438b-8286-3e6c987cf2d4",
   "metadata": {},
   "outputs": [
    {
     "name": "stdout",
     "output_type": "stream",
     "text": [
      "Product : \n",
      "[[1 4 9]\n",
      " [2 1 1]]\n"
     ]
    }
   ],
   "source": [
    "a=np.array([[1,2,3],\n",
    "           [2,1,1]])\n",
    "b=np.array([[1,2,3],\n",
    "           [1,1,1]])\n",
    "print(f'Product : \\n{a*b}')"
   ]
  },
  {
   "cell_type": "code",
   "execution_count": null,
   "id": "b1eb2858-1276-433f-a4e7-2d00b646e77b",
   "metadata": {},
   "outputs": [],
   "source": []
  }
 ],
 "metadata": {
  "kernelspec": {
   "display_name": "Python 3 (ipykernel)",
   "language": "python",
   "name": "python3"
  },
  "language_info": {
   "codemirror_mode": {
    "name": "ipython",
    "version": 3
   },
   "file_extension": ".py",
   "mimetype": "text/x-python",
   "name": "python",
   "nbconvert_exporter": "python",
   "pygments_lexer": "ipython3",
   "version": "3.8.10"
  }
 },
 "nbformat": 4,
 "nbformat_minor": 5
}
