{
 "cells": [
  {
   "cell_type": "code",
   "execution_count": 1,
   "id": "cb034a7e-feb2-4a9e-9dc6-457f44778606",
   "metadata": {},
   "outputs": [],
   "source": [
    "from sklearn import tree\n",
    "import numpy as np\n",
    "import pandas as pd"
   ]
  },
  {
   "cell_type": "code",
   "execution_count": 7,
   "id": "f66159db-c093-4b41-a457-dfae3719a1fd",
   "metadata": {},
   "outputs": [],
   "source": [
    "data=pd.read_csv('data.csv')\n",
    "x=data.iloc[:,[0,1]]\n",
    "y=data.iloc[:,[2]]\n",
    "y_val=y.values.reshape(-1,)\n"
   ]
  },
  {
   "cell_type": "code",
   "execution_count": 9,
   "id": "e53684dd-3698-402b-a13c-b26247337c09",
   "metadata": {},
   "outputs": [
    {
     "name": "stdout",
     "output_type": "stream",
     "text": [
      "['D']\n"
     ]
    }
   ],
   "source": [
    "ds=tree.DecisionTreeClassifier()\n",
    "ds.fit(x.values,y_val)\n",
    "result=ds.predict([[15,20]])\n",
    "print(result)"
   ]
  },
  {
   "cell_type": "code",
   "execution_count": null,
   "id": "abbc9133-2d63-48fe-928c-43fb5e850171",
   "metadata": {},
   "outputs": [],
   "source": []
  }
 ],
 "metadata": {
  "kernelspec": {
   "display_name": "Python 3 (ipykernel)",
   "language": "python",
   "name": "python3"
  },
  "language_info": {
   "codemirror_mode": {
    "name": "ipython",
    "version": 3
   },
   "file_extension": ".py",
   "mimetype": "text/x-python",
   "name": "python",
   "nbconvert_exporter": "python",
   "pygments_lexer": "ipython3",
   "version": "3.8.10"
  }
 },
 "nbformat": 4,
 "nbformat_minor": 5
}
