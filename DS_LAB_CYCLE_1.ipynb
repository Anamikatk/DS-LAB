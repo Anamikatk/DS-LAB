{
 "cells": [
  {
   "cell_type": "code",
   "execution_count": 25,
   "id": "4d78220e-232c-49c5-9519-dc3908a3139c",
   "metadata": {},
   "outputs": [
    {
     "name": "stdout",
     "output_type": "stream",
     "text": [
      "Greater\n",
      "[ True False False]\n",
      "[ True False  True]\n",
      "Less\n",
      "[False  True  True]\n",
      "[False  True False]\n",
      "[ 1  2  3  4  5  6  7  8  9 10]\n"
     ]
    }
   ],
   "source": [
    "#exercise 1: element wise comparison\n",
    "import numpy as np\n",
    "a=np.array([7,2,3])\n",
    "b=np.array([4,5,3])\n",
    "print(\"Greater\")\n",
    "print(np.greater(a,b))\n",
    "print(np.greater_equal(a,b))\n",
    "print(\"Less\")\n",
    "print(np.less_equal(a,b))\n",
    "print(np.less(a,b))\n"
   ]
  },
  {
   "cell_type": "code",
   "execution_count": 26,
   "id": "81af823b-5072-441a-8c18-7481ea1d353f",
   "metadata": {},
   "outputs": [
    {
     "name": "stdout",
     "output_type": "stream",
     "text": [
      "[ 1  2  3  4  5  6  7  8  9 10]\n"
     ]
    },
    {
     "data": {
      "text/plain": [
       "array([[ 1,  2],\n",
       "       [ 3,  4],\n",
       "       [ 5,  6],\n",
       "       [ 7,  8],\n",
       "       [ 9, 10]])"
      ]
     },
     "execution_count": 26,
     "metadata": {},
     "output_type": "execute_result"
    }
   ],
   "source": [
    "c=np.arange(1,11)\n",
    "print(c)\n",
    "c.reshape(5,2)"
   ]
  },
  {
   "cell_type": "code",
   "execution_count": 19,
   "id": "3d7737e2-29fe-48f2-aac4-d423326f4737",
   "metadata": {},
   "outputs": [
    {
     "name": "stdout",
     "output_type": "stream",
     "text": [
      "[30 32 34 36 38 40 42 44 46 48 50 52 54 56 58 60 62 64 66 68]\n"
     ]
    }
   ],
   "source": [
    "#exercise 2: all even numbers within a range\n",
    "print(np.arange(30,70,2))"
   ]
  },
  {
   "cell_type": "code",
   "execution_count": 24,
   "id": "75cdd786-cb23-4144-8c29-e0ca3a022bac",
   "metadata": {},
   "outputs": [
    {
     "name": "stdout",
     "output_type": "stream",
     "text": [
      "[[1 0 0]\n",
      " [0 1 0]\n",
      " [0 0 1]]\n"
     ]
    }
   ],
   "source": [
    "#exercise 3: 3x3 identity matrix\n",
    "a=np.identity(3,dtype=int)\n",
    "print(a)"
   ]
  },
  {
   "cell_type": "code",
   "execution_count": 13,
   "id": "998d5165-1dfe-4036-b56e-c1058903e5d7",
   "metadata": {},
   "outputs": [
    {
     "name": "stdout",
     "output_type": "stream",
     "text": [
      "Original Array : \n",
      " [ 0  1  2  3  4  5  6  7  8  9 10 11 12 13 14 15 16 17 18 19 20]\n",
      "After changing the sign of the numbers in the range from 9 to 15:\n",
      "[  0   1   2   3   4   5   6   7   8  -9 -10 -11 -12 -13 -14 -15  16  17\n",
      "  18  19  20]\n"
     ]
    }
   ],
   "source": [
    "#exercise 4: change sign of numbers in a range \n",
    "s=np.arange(21)\n",
    "print(\"Original Array : \\n\",s)\n",
    "print(\"After changing the sign of the numbers in the range from 9 to 15:\")\n",
    "s[(s >= 9) & (s <= 15)] *= -1\n",
    "print(s)"
   ]
  },
  {
   "cell_type": "code",
   "execution_count": 3,
   "id": "09574db3-e89e-4348-bc5d-300851541b2b",
   "metadata": {},
   "outputs": [
    {
     "name": "stdout",
     "output_type": "stream",
     "text": [
      "[[1 0 0 0 0]\n",
      " [0 2 0 0 0]\n",
      " [0 0 3 0 0]\n",
      " [0 0 0 4 0]\n",
      " [0 0 0 0 5]]\n"
     ]
    }
   ],
   "source": [
    "#exercise 5: zero matrix with diagonal 1,2,3,4,5\n",
    "print(np.diag([1,2,3,4,5]))"
   ]
  },
  {
   "cell_type": "code",
   "execution_count": 12,
   "id": "823d563d-aa4c-4982-b3e5-c9b54bd9bef2",
   "metadata": {},
   "outputs": [
    {
     "name": "stdout",
     "output_type": "stream",
     "text": [
      "Sum of all elements :  45\n",
      "Sum of each column :  [12 15 18]\n",
      "Sum of each column :  [ 6 15 24]\n"
     ]
    }
   ],
   "source": [
    "#exercise 6: sum of all elements, each column, each row of an array\n",
    "a=np.array([[1,2,3],[4,5,6],[7,8,9]])\n",
    "print(\"Sum of all elements : \",np.sum(a))\n",
    "print(\"Sum of each column : \",np.sum(a,axis=0))\n",
    "print(\"Sum of each column : \",np.sum(a,axis=1))"
   ]
  },
  {
   "cell_type": "code",
   "execution_count": 14,
   "id": "cc50a8e5-1f63-4f8a-8fd7-5369348835e8",
   "metadata": {},
   "outputs": [
    {
     "name": "stdout",
     "output_type": "stream",
     "text": [
      "[[1. 2. 3.]\n",
      " [4. 5. 6.]\n",
      " [7. 8. 9.]]\n"
     ]
    }
   ],
   "source": [
    "#exercise 7: save a given array to a text file and load it\n",
    "a=np.array([[1,2,3],[4,5,6],[7,8,9]])\n",
    "np.savetxt('new.txt',a)\n",
    "t=np.loadtxt('new.txt')\n",
    "print(t)"
   ]
  },
  {
   "cell_type": "code",
   "execution_count": 27,
   "id": "4e29cea6-5379-4820-9f44-4f8a681f55e9",
   "metadata": {},
   "outputs": [
    {
     "name": "stdout",
     "output_type": "stream",
     "text": [
      "Not Equal\n"
     ]
    }
   ],
   "source": [
    "#exercise 8: save a given array to a text file and load it\n",
    "a=np.array([7,2,3])\n",
    "b=np.array([4,5,3])\n",
    "#print(\"Equal (True/False) : \",np.array_equal(a,b))\n",
    "res=np.array_equal(a,b)\n",
    "print(\"Equal\" if res==True else \"Not Equal\")"
   ]
  },
  {
   "cell_type": "code",
   "execution_count": 15,
   "id": "1dfb19e3-5060-4a5c-8cc0-6ab1aa03485f",
   "metadata": {},
   "outputs": [
    {
     "name": "stdout",
     "output_type": "stream",
     "text": [
      "Original Array : \n",
      " [[12 14 22 21]\n",
      " [19 25 27  3]\n",
      " [23 15  9 17]\n",
      " [22  2 10 15]]\n",
      "Swapped Array :\n",
      " [[22  2 10 15]\n",
      " [19 25 27  3]\n",
      " [23 15  9 17]\n",
      " [12 14 22 21]]\n"
     ]
    }
   ],
   "source": [
    "#exercise 9: take a 4x4 array, create new array from the given array with 1st & last row swapped\n",
    "# arr=np.array([[0,0,0,0],[2,2,2,2],[3,3,3,3],[1,1,1,1]])\n",
    "# arr=np.random.rand(3,4)\n",
    "arr=np.random.randint(1,30,(4,4))\n",
    "print(\"Original Array : \\n\",arr)\n",
    "arr[[0,3]]=arr[[3,0]]\n",
    "print(\"Swapped Array :\\n\",arr)"
   ]
  },
  {
   "cell_type": "code",
   "execution_count": 38,
   "id": "9a72b8ce-e919-4de8-88ff-e03bdfe6e509",
   "metadata": {},
   "outputs": [
    {
     "name": "stdout",
     "output_type": "stream",
     "text": [
      "Array 1 :  [[1 1 1]\n",
      " [1 2 3]]\n",
      "Array 2 :  [[4 3 2]\n",
      " [1 1 1]]\n",
      "Array after muliplying : \n",
      "[[4 3 2]\n",
      " [1 2 3]]\n"
     ]
    }
   ],
   "source": [
    "#exercise 10: multiply 2 given array of same size element-by-element\n",
    "import numpy as np\n",
    "a=np.array([[1,1,1],[1,2,3]])\n",
    "print(\"Array 1 : \",a)\n",
    "b=np.array([[4,3,2],[1,1,1]])\n",
    "print(\"Array 2 : \",b)\n",
    "print(\"Array after muliplying : \")\n",
    "print(np.multiply(a,b))\n"
   ]
  },
  {
   "cell_type": "code",
   "execution_count": null,
   "id": "37d9737b-2952-487c-8596-71f74c4321d6",
   "metadata": {},
   "outputs": [],
   "source": []
  },
  {
   "cell_type": "code",
   "execution_count": null,
   "id": "02163e92-b965-4416-99f2-56ad889b6461",
   "metadata": {},
   "outputs": [],
   "source": []
  }
 ],
 "metadata": {
  "kernelspec": {
   "display_name": "Python 3 (ipykernel)",
   "language": "python",
   "name": "python3"
  },
  "language_info": {
   "codemirror_mode": {
    "name": "ipython",
    "version": 3
   },
   "file_extension": ".py",
   "mimetype": "text/x-python",
   "name": "python",
   "nbconvert_exporter": "python",
   "pygments_lexer": "ipython3",
   "version": "3.10.12"
  }
 },
 "nbformat": 4,
 "nbformat_minor": 5
}
